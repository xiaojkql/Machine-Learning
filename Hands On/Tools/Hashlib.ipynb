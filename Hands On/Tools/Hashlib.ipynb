{
 "cells": [
  {
   "cell_type": "code",
   "execution_count": 1,
   "metadata": {},
   "outputs": [
    {
     "name": "stdout",
     "output_type": "stream",
     "text": [
      "21232f297a57a5a743894a0e4a801fc3\n"
     ]
    }
   ],
   "source": [
    "import hashlib\n",
    "\n",
    "hash = hashlib.md5() # md5对象\n",
    "hash.update(bytes('admin',encoding='utf-8')) # 对字符串admin进行加密\n",
    "print(hash.hexdigest()) # 加密后呈现的数据"
   ]
  },
  {
   "cell_type": "code",
   "execution_count": 3,
   "metadata": {},
   "outputs": [
    {
     "name": "stdout",
     "output_type": "stream",
     "text": [
      "9aea3c0a6c51555c1a4d0a5e9b689ded\n"
     ]
    }
   ],
   "source": [
    "hash3 = hashlib.md5(bytes('abd',encoding='utf-8')) # 两层加密参数保证安全\n",
    "hash3.update(bytes('admin',encoding='utf-8'))\n",
    "print(hash3.hexdigest())"
   ]
  },
  {
   "cell_type": "code",
   "execution_count": null,
   "metadata": {},
   "outputs": [
    {
     "name": "stdout",
     "output_type": "stream",
     "text": [
      "1表示登录，2表示注册：2\n"
     ]
    }
   ],
   "source": [
    "def md5(arg):\n",
    "    md5_pwd = hashlib.md5(bytes('abc',encoding='utf-8'))\n",
    "    md5_pwd.update(bytes(arg,encoding='utf-8'))\n",
    "    return md5_pwd.hexdigest()\n",
    "    \n",
    "def register(user,pwd):\n",
    "    with open('db','a',encoding='utf-8') as f:\n",
    "        temp = user+'|'+md5(pwd)\n",
    "        f.write(temp)\n",
    "def log(user,pwd):\n",
    "    with open(db,'r',encoding='utf-8') as f:\n",
    "        for line in f:\n",
    "            u,p = line.strip().split('|')\n",
    "            if u == user and p == pwd:\n",
    "                return True\n",
    "i = input('1表示登录，2表示注册：')\n",
    "if i=='2':\n",
    "    user=input(\"用户名：\")\n",
    "    pwd=input(\"密码：\")\n",
    "    register(user,pwd)\n",
    "elif i=='1':\n",
    "    user = user = input('用户名：')\n",
    "    pwd =input('密码：')\n",
    "    r=log(user,pwd)#验证用户名和密码\n",
    "    if r ==True:\n",
    "        print('登陆成功')\n",
    "    else:\n",
    "        print('登陆失败')\n",
    "else:\n",
    "    print('输入正确选项')"
   ]
  },
  {
   "cell_type": "code",
   "execution_count": null,
   "metadata": {},
   "outputs": [],
   "source": []
  }
 ],
 "metadata": {
  "kernelspec": {
   "display_name": "Python 3",
   "language": "python",
   "name": "python3"
  },
  "language_info": {
   "codemirror_mode": {
    "name": "ipython",
    "version": 3
   },
   "file_extension": ".py",
   "mimetype": "text/x-python",
   "name": "python",
   "nbconvert_exporter": "python",
   "pygments_lexer": "ipython3",
   "version": "3.7.1"
  }
 },
 "nbformat": 4,
 "nbformat_minor": 2
}
